{
 "cells": [
  {
   "cell_type": "markdown",
   "metadata": {},
   "source": [
    "### Importing required Libraries"
   ]
  },
  {
   "cell_type": "code",
   "execution_count": 5,
   "metadata": {},
   "outputs": [],
   "source": [
    "import pandas as pd\n",
    "import numpy as np\n",
    "import matplotlib.pyplot as plt\n",
    "from pandas.plotting import scatter_matrix\n",
    "%matplotlib inline"
   ]
  },
  {
   "cell_type": "code",
   "execution_count": 6,
   "metadata": {},
   "outputs": [],
   "source": [
    "import seaborn as sns\n",
    "sns.set(style='white',color_codes = True, font_scale=1.5)"
   ]
  },
  {
   "cell_type": "code",
   "execution_count": 7,
   "metadata": {},
   "outputs": [],
   "source": [
    "from sklearn.linear_model import LogisticRegression\n",
    "from sklearn.model_selection import  train_test_split\n",
    "\n",
    "from sklearn.metrics import confusion_matrix\n",
    "from sklearn.metrics import classification_report\n",
    "from sklearn.metrics import accuracy_score\n",
    "from sklearn.metrics import recall_score\n",
    "from sklearn.metrics import precision_score\n",
    "from sklearn.metrics import f1_score\n",
    "from sklearn import metrics"
   ]
  },
  {
   "cell_type": "code",
   "execution_count": 15,
   "metadata": {},
   "outputs": [],
   "source": [
    "## Data Exploration"
   ]
  },
  {
   "cell_type": "code",
   "execution_count": 8,
   "metadata": {},
   "outputs": [
    {
     "data": {
      "text/html": [
       "<div>\n",
       "<style scoped>\n",
       "    .dataframe tbody tr th:only-of-type {\n",
       "        vertical-align: middle;\n",
       "    }\n",
       "\n",
       "    .dataframe tbody tr th {\n",
       "        vertical-align: top;\n",
       "    }\n",
       "\n",
       "    .dataframe thead th {\n",
       "        text-align: right;\n",
       "    }\n",
       "</style>\n",
       "<table border=\"1\" class=\"dataframe\">\n",
       "  <thead>\n",
       "    <tr style=\"text-align: right;\">\n",
       "      <th></th>\n",
       "      <th>PassengerId</th>\n",
       "      <th>Survived</th>\n",
       "      <th>Pclass</th>\n",
       "      <th>Name</th>\n",
       "      <th>Sex</th>\n",
       "      <th>Age</th>\n",
       "      <th>SibSp</th>\n",
       "      <th>Parch</th>\n",
       "      <th>Ticket</th>\n",
       "      <th>Fare</th>\n",
       "      <th>Cabin</th>\n",
       "      <th>Embarked</th>\n",
       "    </tr>\n",
       "  </thead>\n",
       "  <tbody>\n",
       "    <tr>\n",
       "      <th>0</th>\n",
       "      <td>1</td>\n",
       "      <td>0</td>\n",
       "      <td>3</td>\n",
       "      <td>Braund, Mr. Owen Harris</td>\n",
       "      <td>male</td>\n",
       "      <td>22.0</td>\n",
       "      <td>1</td>\n",
       "      <td>0</td>\n",
       "      <td>A/5 21171</td>\n",
       "      <td>7.2500</td>\n",
       "      <td>NaN</td>\n",
       "      <td>S</td>\n",
       "    </tr>\n",
       "    <tr>\n",
       "      <th>1</th>\n",
       "      <td>2</td>\n",
       "      <td>1</td>\n",
       "      <td>1</td>\n",
       "      <td>Cumings, Mrs. John Bradley (Florence Briggs Th...</td>\n",
       "      <td>female</td>\n",
       "      <td>38.0</td>\n",
       "      <td>1</td>\n",
       "      <td>0</td>\n",
       "      <td>PC 17599</td>\n",
       "      <td>71.2833</td>\n",
       "      <td>C85</td>\n",
       "      <td>C</td>\n",
       "    </tr>\n",
       "    <tr>\n",
       "      <th>2</th>\n",
       "      <td>3</td>\n",
       "      <td>1</td>\n",
       "      <td>3</td>\n",
       "      <td>Heikkinen, Miss. Laina</td>\n",
       "      <td>female</td>\n",
       "      <td>26.0</td>\n",
       "      <td>0</td>\n",
       "      <td>0</td>\n",
       "      <td>STON/O2. 3101282</td>\n",
       "      <td>7.9250</td>\n",
       "      <td>NaN</td>\n",
       "      <td>S</td>\n",
       "    </tr>\n",
       "    <tr>\n",
       "      <th>3</th>\n",
       "      <td>4</td>\n",
       "      <td>1</td>\n",
       "      <td>1</td>\n",
       "      <td>Futrelle, Mrs. Jacques Heath (Lily May Peel)</td>\n",
       "      <td>female</td>\n",
       "      <td>35.0</td>\n",
       "      <td>1</td>\n",
       "      <td>0</td>\n",
       "      <td>113803</td>\n",
       "      <td>53.1000</td>\n",
       "      <td>C123</td>\n",
       "      <td>S</td>\n",
       "    </tr>\n",
       "    <tr>\n",
       "      <th>4</th>\n",
       "      <td>5</td>\n",
       "      <td>0</td>\n",
       "      <td>3</td>\n",
       "      <td>Allen, Mr. William Henry</td>\n",
       "      <td>male</td>\n",
       "      <td>35.0</td>\n",
       "      <td>0</td>\n",
       "      <td>0</td>\n",
       "      <td>373450</td>\n",
       "      <td>8.0500</td>\n",
       "      <td>NaN</td>\n",
       "      <td>S</td>\n",
       "    </tr>\n",
       "  </tbody>\n",
       "</table>\n",
       "</div>"
      ],
      "text/plain": [
       "   PassengerId  Survived  Pclass  ...     Fare Cabin  Embarked\n",
       "0            1         0       3  ...   7.2500   NaN         S\n",
       "1            2         1       1  ...  71.2833   C85         C\n",
       "2            3         1       3  ...   7.9250   NaN         S\n",
       "3            4         1       1  ...  53.1000  C123         S\n",
       "4            5         0       3  ...   8.0500   NaN         S\n",
       "\n",
       "[5 rows x 12 columns]"
      ]
     },
     "execution_count": 8,
     "metadata": {},
     "output_type": "execute_result"
    }
   ],
   "source": [
    "df_train = pd.read_csv('train.csv')\n",
    "df_train.head()"
   ]
  },
  {
   "cell_type": "code",
   "execution_count": 9,
   "metadata": {},
   "outputs": [
    {
     "data": {
      "text/plain": [
       "(891, 12)"
      ]
     },
     "execution_count": 9,
     "metadata": {},
     "output_type": "execute_result"
    }
   ],
   "source": [
    "df_train.shape"
   ]
  },
  {
   "cell_type": "code",
   "execution_count": 12,
   "metadata": {},
   "outputs": [
    {
     "data": {
      "text/plain": [
       "0    549\n",
       "1    342\n",
       "Name: Survived, dtype: int64"
      ]
     },
     "execution_count": 12,
     "metadata": {},
     "output_type": "execute_result"
    }
   ],
   "source": [
    "df_train.Survived.value_counts()"
   ]
  },
  {
   "cell_type": "code",
   "execution_count": 13,
   "metadata": {},
   "outputs": [
    {
     "data": {
      "text/plain": [
       "male      577\n",
       "female    314\n",
       "Name: Sex, dtype: int64"
      ]
     },
     "execution_count": 13,
     "metadata": {},
     "output_type": "execute_result"
    }
   ],
   "source": [
    "df_train.Sex.value_counts()"
   ]
  },
  {
   "cell_type": "code",
   "execution_count": 14,
   "metadata": {},
   "outputs": [
    {
     "data": {
      "text/plain": [
       "S    644\n",
       "C    168\n",
       "Q     77\n",
       "Name: Embarked, dtype: int64"
      ]
     },
     "execution_count": 14,
     "metadata": {},
     "output_type": "execute_result"
    }
   ],
   "source": [
    "df_train.Embarked.value_counts()"
   ]
  },
  {
   "cell_type": "code",
   "execution_count": 16,
   "metadata": {},
   "outputs": [],
   "source": [
    "## Checking missing values"
   ]
  },
  {
   "cell_type": "code",
   "execution_count": 17,
   "metadata": {},
   "outputs": [
    {
     "data": {
      "text/plain": [
       "PassengerId      0\n",
       "Survived         0\n",
       "Pclass           0\n",
       "Name             0\n",
       "Sex              0\n",
       "Age            177\n",
       "SibSp            0\n",
       "Parch            0\n",
       "Ticket           0\n",
       "Fare             0\n",
       "Cabin          687\n",
       "Embarked         2\n",
       "dtype: int64"
      ]
     },
     "execution_count": 17,
     "metadata": {},
     "output_type": "execute_result"
    }
   ],
   "source": [
    "df_train.isnull().sum()"
   ]
  },
  {
   "cell_type": "code",
   "execution_count": 18,
   "metadata": {},
   "outputs": [
    {
     "data": {
      "text/html": [
       "<div>\n",
       "<style scoped>\n",
       "    .dataframe tbody tr th:only-of-type {\n",
       "        vertical-align: middle;\n",
       "    }\n",
       "\n",
       "    .dataframe tbody tr th {\n",
       "        vertical-align: top;\n",
       "    }\n",
       "\n",
       "    .dataframe thead th {\n",
       "        text-align: right;\n",
       "    }\n",
       "</style>\n",
       "<table border=\"1\" class=\"dataframe\">\n",
       "  <thead>\n",
       "    <tr style=\"text-align: right;\">\n",
       "      <th></th>\n",
       "      <th>Survived</th>\n",
       "      <th>Pclass</th>\n",
       "      <th>Sex</th>\n",
       "      <th>Age</th>\n",
       "      <th>SibSp</th>\n",
       "      <th>Parch</th>\n",
       "      <th>Fare</th>\n",
       "      <th>Embarked</th>\n",
       "    </tr>\n",
       "  </thead>\n",
       "  <tbody>\n",
       "    <tr>\n",
       "      <th>0</th>\n",
       "      <td>0</td>\n",
       "      <td>3</td>\n",
       "      <td>male</td>\n",
       "      <td>22.0</td>\n",
       "      <td>1</td>\n",
       "      <td>0</td>\n",
       "      <td>7.2500</td>\n",
       "      <td>S</td>\n",
       "    </tr>\n",
       "    <tr>\n",
       "      <th>1</th>\n",
       "      <td>1</td>\n",
       "      <td>1</td>\n",
       "      <td>female</td>\n",
       "      <td>38.0</td>\n",
       "      <td>1</td>\n",
       "      <td>0</td>\n",
       "      <td>71.2833</td>\n",
       "      <td>C</td>\n",
       "    </tr>\n",
       "    <tr>\n",
       "      <th>2</th>\n",
       "      <td>1</td>\n",
       "      <td>3</td>\n",
       "      <td>female</td>\n",
       "      <td>26.0</td>\n",
       "      <td>0</td>\n",
       "      <td>0</td>\n",
       "      <td>7.9250</td>\n",
       "      <td>S</td>\n",
       "    </tr>\n",
       "    <tr>\n",
       "      <th>3</th>\n",
       "      <td>1</td>\n",
       "      <td>1</td>\n",
       "      <td>female</td>\n",
       "      <td>35.0</td>\n",
       "      <td>1</td>\n",
       "      <td>0</td>\n",
       "      <td>53.1000</td>\n",
       "      <td>S</td>\n",
       "    </tr>\n",
       "    <tr>\n",
       "      <th>4</th>\n",
       "      <td>0</td>\n",
       "      <td>3</td>\n",
       "      <td>male</td>\n",
       "      <td>35.0</td>\n",
       "      <td>0</td>\n",
       "      <td>0</td>\n",
       "      <td>8.0500</td>\n",
       "      <td>S</td>\n",
       "    </tr>\n",
       "  </tbody>\n",
       "</table>\n",
       "</div>"
      ],
      "text/plain": [
       "   Survived  Pclass     Sex   Age  SibSp  Parch     Fare Embarked\n",
       "0         0       3    male  22.0      1      0   7.2500        S\n",
       "1         1       1  female  38.0      1      0  71.2833        C\n",
       "2         1       3  female  26.0      0      0   7.9250        S\n",
       "3         1       1  female  35.0      1      0  53.1000        S\n",
       "4         0       3    male  35.0      0      0   8.0500        S"
      ]
     },
     "execution_count": 18,
     "metadata": {},
     "output_type": "execute_result"
    }
   ],
   "source": [
    "df_train.drop(['PassengerId','Ticket','Name','Cabin'],axis=1,inplace= True)\n",
    "df_train.head()"
   ]
  },
  {
   "cell_type": "code",
   "execution_count": 20,
   "metadata": {},
   "outputs": [
    {
     "data": {
      "text/html": [
       "<div>\n",
       "<style scoped>\n",
       "    .dataframe tbody tr th:only-of-type {\n",
       "        vertical-align: middle;\n",
       "    }\n",
       "\n",
       "    .dataframe tbody tr th {\n",
       "        vertical-align: top;\n",
       "    }\n",
       "\n",
       "    .dataframe thead th {\n",
       "        text-align: right;\n",
       "    }\n",
       "</style>\n",
       "<table border=\"1\" class=\"dataframe\">\n",
       "  <thead>\n",
       "    <tr style=\"text-align: right;\">\n",
       "      <th></th>\n",
       "      <th>Survived</th>\n",
       "      <th>Pclass</th>\n",
       "      <th>Age</th>\n",
       "      <th>SibSp</th>\n",
       "      <th>Parch</th>\n",
       "      <th>Fare</th>\n",
       "    </tr>\n",
       "  </thead>\n",
       "  <tbody>\n",
       "    <tr>\n",
       "      <th>count</th>\n",
       "      <td>891.000000</td>\n",
       "      <td>891.000000</td>\n",
       "      <td>714.000000</td>\n",
       "      <td>891.000000</td>\n",
       "      <td>891.000000</td>\n",
       "      <td>891.000000</td>\n",
       "    </tr>\n",
       "    <tr>\n",
       "      <th>mean</th>\n",
       "      <td>0.383838</td>\n",
       "      <td>2.308642</td>\n",
       "      <td>29.699118</td>\n",
       "      <td>0.523008</td>\n",
       "      <td>0.381594</td>\n",
       "      <td>32.204208</td>\n",
       "    </tr>\n",
       "    <tr>\n",
       "      <th>std</th>\n",
       "      <td>0.486592</td>\n",
       "      <td>0.836071</td>\n",
       "      <td>14.526497</td>\n",
       "      <td>1.102743</td>\n",
       "      <td>0.806057</td>\n",
       "      <td>49.693429</td>\n",
       "    </tr>\n",
       "    <tr>\n",
       "      <th>min</th>\n",
       "      <td>0.000000</td>\n",
       "      <td>1.000000</td>\n",
       "      <td>0.420000</td>\n",
       "      <td>0.000000</td>\n",
       "      <td>0.000000</td>\n",
       "      <td>0.000000</td>\n",
       "    </tr>\n",
       "    <tr>\n",
       "      <th>25%</th>\n",
       "      <td>0.000000</td>\n",
       "      <td>2.000000</td>\n",
       "      <td>20.125000</td>\n",
       "      <td>0.000000</td>\n",
       "      <td>0.000000</td>\n",
       "      <td>7.910400</td>\n",
       "    </tr>\n",
       "    <tr>\n",
       "      <th>50%</th>\n",
       "      <td>0.000000</td>\n",
       "      <td>3.000000</td>\n",
       "      <td>28.000000</td>\n",
       "      <td>0.000000</td>\n",
       "      <td>0.000000</td>\n",
       "      <td>14.454200</td>\n",
       "    </tr>\n",
       "    <tr>\n",
       "      <th>75%</th>\n",
       "      <td>1.000000</td>\n",
       "      <td>3.000000</td>\n",
       "      <td>38.000000</td>\n",
       "      <td>1.000000</td>\n",
       "      <td>0.000000</td>\n",
       "      <td>31.000000</td>\n",
       "    </tr>\n",
       "    <tr>\n",
       "      <th>max</th>\n",
       "      <td>1.000000</td>\n",
       "      <td>3.000000</td>\n",
       "      <td>80.000000</td>\n",
       "      <td>8.000000</td>\n",
       "      <td>6.000000</td>\n",
       "      <td>512.329200</td>\n",
       "    </tr>\n",
       "  </tbody>\n",
       "</table>\n",
       "</div>"
      ],
      "text/plain": [
       "         Survived      Pclass         Age       SibSp       Parch        Fare\n",
       "count  891.000000  891.000000  714.000000  891.000000  891.000000  891.000000\n",
       "mean     0.383838    2.308642   29.699118    0.523008    0.381594   32.204208\n",
       "std      0.486592    0.836071   14.526497    1.102743    0.806057   49.693429\n",
       "min      0.000000    1.000000    0.420000    0.000000    0.000000    0.000000\n",
       "25%      0.000000    2.000000   20.125000    0.000000    0.000000    7.910400\n",
       "50%      0.000000    3.000000   28.000000    0.000000    0.000000   14.454200\n",
       "75%      1.000000    3.000000   38.000000    1.000000    0.000000   31.000000\n",
       "max      1.000000    3.000000   80.000000    8.000000    6.000000  512.329200"
      ]
     },
     "execution_count": 20,
     "metadata": {},
     "output_type": "execute_result"
    }
   ],
   "source": [
    "df_train.describe()"
   ]
  },
  {
   "cell_type": "code",
   "execution_count": 21,
   "metadata": {},
   "outputs": [
    {
     "data": {
      "text/html": [
       "<div>\n",
       "<style scoped>\n",
       "    .dataframe tbody tr th:only-of-type {\n",
       "        vertical-align: middle;\n",
       "    }\n",
       "\n",
       "    .dataframe tbody tr th {\n",
       "        vertical-align: top;\n",
       "    }\n",
       "\n",
       "    .dataframe thead th {\n",
       "        text-align: right;\n",
       "    }\n",
       "</style>\n",
       "<table border=\"1\" class=\"dataframe\">\n",
       "  <thead>\n",
       "    <tr style=\"text-align: right;\">\n",
       "      <th></th>\n",
       "      <th>Survived</th>\n",
       "      <th>Age</th>\n",
       "      <th>SibSp</th>\n",
       "      <th>Parch</th>\n",
       "      <th>Fare</th>\n",
       "    </tr>\n",
       "    <tr>\n",
       "      <th>Pclass</th>\n",
       "      <th></th>\n",
       "      <th></th>\n",
       "      <th></th>\n",
       "      <th></th>\n",
       "      <th></th>\n",
       "    </tr>\n",
       "  </thead>\n",
       "  <tbody>\n",
       "    <tr>\n",
       "      <th>1</th>\n",
       "      <td>0.629630</td>\n",
       "      <td>38.233441</td>\n",
       "      <td>0.416667</td>\n",
       "      <td>0.356481</td>\n",
       "      <td>84.154687</td>\n",
       "    </tr>\n",
       "    <tr>\n",
       "      <th>2</th>\n",
       "      <td>0.472826</td>\n",
       "      <td>29.877630</td>\n",
       "      <td>0.402174</td>\n",
       "      <td>0.380435</td>\n",
       "      <td>20.662183</td>\n",
       "    </tr>\n",
       "    <tr>\n",
       "      <th>3</th>\n",
       "      <td>0.242363</td>\n",
       "      <td>25.140620</td>\n",
       "      <td>0.615071</td>\n",
       "      <td>0.393075</td>\n",
       "      <td>13.675550</td>\n",
       "    </tr>\n",
       "  </tbody>\n",
       "</table>\n",
       "</div>"
      ],
      "text/plain": [
       "        Survived        Age     SibSp     Parch       Fare\n",
       "Pclass                                                    \n",
       "1       0.629630  38.233441  0.416667  0.356481  84.154687\n",
       "2       0.472826  29.877630  0.402174  0.380435  20.662183\n",
       "3       0.242363  25.140620  0.615071  0.393075  13.675550"
      ]
     },
     "execution_count": 21,
     "metadata": {},
     "output_type": "execute_result"
    }
   ],
   "source": [
    "df_train.groupby('Pclass').mean()"
   ]
  },
  {
   "cell_type": "code",
   "execution_count": 24,
   "metadata": {},
   "outputs": [],
   "source": [
    "def age_approx(cols):\n",
    "    Age = cols[0]\n",
    "    Pclass = cols[1]\n",
    "    \n",
    "    if pd.isnull(Age):\n",
    "        if Pclass == 1:\n",
    "            return 38\n",
    "        elif Pclass == 2:\n",
    "            return 29\n",
    "        else:\n",
    "            return 24\n",
    "    else:\n",
    "        return Age"
   ]
  },
  {
   "cell_type": "code",
   "execution_count": 25,
   "metadata": {},
   "outputs": [],
   "source": [
    "df_train['Age'] = df_train[['Age','Pclass']].apply(age_approx,axis=1)"
   ]
  },
  {
   "cell_type": "code",
   "execution_count": 26,
   "metadata": {},
   "outputs": [
    {
     "data": {
      "text/html": [
       "<div>\n",
       "<style scoped>\n",
       "    .dataframe tbody tr th:only-of-type {\n",
       "        vertical-align: middle;\n",
       "    }\n",
       "\n",
       "    .dataframe tbody tr th {\n",
       "        vertical-align: top;\n",
       "    }\n",
       "\n",
       "    .dataframe thead th {\n",
       "        text-align: right;\n",
       "    }\n",
       "</style>\n",
       "<table border=\"1\" class=\"dataframe\">\n",
       "  <thead>\n",
       "    <tr style=\"text-align: right;\">\n",
       "      <th></th>\n",
       "      <th>Survived</th>\n",
       "      <th>Age</th>\n",
       "      <th>SibSp</th>\n",
       "      <th>Parch</th>\n",
       "      <th>Fare</th>\n",
       "    </tr>\n",
       "    <tr>\n",
       "      <th>Pclass</th>\n",
       "      <th></th>\n",
       "      <th></th>\n",
       "      <th></th>\n",
       "      <th></th>\n",
       "      <th></th>\n",
       "    </tr>\n",
       "  </thead>\n",
       "  <tbody>\n",
       "    <tr>\n",
       "      <th>1</th>\n",
       "      <td>0.629630</td>\n",
       "      <td>38.201019</td>\n",
       "      <td>0.416667</td>\n",
       "      <td>0.356481</td>\n",
       "      <td>84.154687</td>\n",
       "    </tr>\n",
       "    <tr>\n",
       "      <th>2</th>\n",
       "      <td>0.472826</td>\n",
       "      <td>29.825163</td>\n",
       "      <td>0.402174</td>\n",
       "      <td>0.380435</td>\n",
       "      <td>20.662183</td>\n",
       "    </tr>\n",
       "    <tr>\n",
       "      <th>3</th>\n",
       "      <td>0.242363</td>\n",
       "      <td>24.824684</td>\n",
       "      <td>0.615071</td>\n",
       "      <td>0.393075</td>\n",
       "      <td>13.675550</td>\n",
       "    </tr>\n",
       "  </tbody>\n",
       "</table>\n",
       "</div>"
      ],
      "text/plain": [
       "        Survived        Age     SibSp     Parch       Fare\n",
       "Pclass                                                    \n",
       "1       0.629630  38.201019  0.416667  0.356481  84.154687\n",
       "2       0.472826  29.825163  0.402174  0.380435  20.662183\n",
       "3       0.242363  24.824684  0.615071  0.393075  13.675550"
      ]
     },
     "execution_count": 26,
     "metadata": {},
     "output_type": "execute_result"
    }
   ],
   "source": [
    "df_train.groupby('Pclass').mean()"
   ]
  },
  {
   "cell_type": "code",
   "execution_count": 27,
   "metadata": {},
   "outputs": [
    {
     "data": {
      "text/plain": [
       "Survived    0\n",
       "Pclass      0\n",
       "Sex         0\n",
       "Age         0\n",
       "SibSp       0\n",
       "Parch       0\n",
       "Fare        0\n",
       "Embarked    2\n",
       "dtype: int64"
      ]
     },
     "execution_count": 27,
     "metadata": {},
     "output_type": "execute_result"
    }
   ],
   "source": [
    "df_train.isnull().sum()"
   ]
  },
  {
   "cell_type": "code",
   "execution_count": 28,
   "metadata": {},
   "outputs": [],
   "source": [
    "df_train.dropna(inplace=True)"
   ]
  },
  {
   "cell_type": "code",
   "execution_count": 37,
   "metadata": {},
   "outputs": [],
   "source": [
    "df_train_dummied = pd.get_dummies(df_train,columns=['Sex'],drop_first=True)"
   ]
  },
  {
   "cell_type": "code",
   "execution_count": 38,
   "metadata": {},
   "outputs": [],
   "source": [
    "df_train_dummied = pd.get_dummies(df_train_dummied,columns=['Embarked'],drop_first=True)"
   ]
  },
  {
   "cell_type": "code",
   "execution_count": 39,
   "metadata": {},
   "outputs": [
    {
     "data": {
      "text/html": [
       "<div>\n",
       "<style scoped>\n",
       "    .dataframe tbody tr th:only-of-type {\n",
       "        vertical-align: middle;\n",
       "    }\n",
       "\n",
       "    .dataframe tbody tr th {\n",
       "        vertical-align: top;\n",
       "    }\n",
       "\n",
       "    .dataframe thead th {\n",
       "        text-align: right;\n",
       "    }\n",
       "</style>\n",
       "<table border=\"1\" class=\"dataframe\">\n",
       "  <thead>\n",
       "    <tr style=\"text-align: right;\">\n",
       "      <th></th>\n",
       "      <th>Survived</th>\n",
       "      <th>Pclass</th>\n",
       "      <th>Age</th>\n",
       "      <th>SibSp</th>\n",
       "      <th>Parch</th>\n",
       "      <th>Fare</th>\n",
       "      <th>Sex_male</th>\n",
       "      <th>Embarked_Q</th>\n",
       "      <th>Embarked_S</th>\n",
       "    </tr>\n",
       "  </thead>\n",
       "  <tbody>\n",
       "    <tr>\n",
       "      <th>0</th>\n",
       "      <td>0</td>\n",
       "      <td>3</td>\n",
       "      <td>22.0</td>\n",
       "      <td>1</td>\n",
       "      <td>0</td>\n",
       "      <td>7.2500</td>\n",
       "      <td>1</td>\n",
       "      <td>0</td>\n",
       "      <td>1</td>\n",
       "    </tr>\n",
       "    <tr>\n",
       "      <th>1</th>\n",
       "      <td>1</td>\n",
       "      <td>1</td>\n",
       "      <td>38.0</td>\n",
       "      <td>1</td>\n",
       "      <td>0</td>\n",
       "      <td>71.2833</td>\n",
       "      <td>0</td>\n",
       "      <td>0</td>\n",
       "      <td>0</td>\n",
       "    </tr>\n",
       "    <tr>\n",
       "      <th>2</th>\n",
       "      <td>1</td>\n",
       "      <td>3</td>\n",
       "      <td>26.0</td>\n",
       "      <td>0</td>\n",
       "      <td>0</td>\n",
       "      <td>7.9250</td>\n",
       "      <td>0</td>\n",
       "      <td>0</td>\n",
       "      <td>1</td>\n",
       "    </tr>\n",
       "    <tr>\n",
       "      <th>3</th>\n",
       "      <td>1</td>\n",
       "      <td>1</td>\n",
       "      <td>35.0</td>\n",
       "      <td>1</td>\n",
       "      <td>0</td>\n",
       "      <td>53.1000</td>\n",
       "      <td>0</td>\n",
       "      <td>0</td>\n",
       "      <td>1</td>\n",
       "    </tr>\n",
       "    <tr>\n",
       "      <th>4</th>\n",
       "      <td>0</td>\n",
       "      <td>3</td>\n",
       "      <td>35.0</td>\n",
       "      <td>0</td>\n",
       "      <td>0</td>\n",
       "      <td>8.0500</td>\n",
       "      <td>1</td>\n",
       "      <td>0</td>\n",
       "      <td>1</td>\n",
       "    </tr>\n",
       "  </tbody>\n",
       "</table>\n",
       "</div>"
      ],
      "text/plain": [
       "   Survived  Pclass   Age  SibSp  Parch     Fare  Sex_male  Embarked_Q  Embarked_S\n",
       "0         0       3  22.0      1      0   7.2500         1           0           1\n",
       "1         1       1  38.0      1      0  71.2833         0           0           0\n",
       "2         1       3  26.0      0      0   7.9250         0           0           1\n",
       "3         1       1  35.0      1      0  53.1000         0           0           1\n",
       "4         0       3  35.0      0      0   8.0500         1           0           1"
      ]
     },
     "execution_count": 39,
     "metadata": {},
     "output_type": "execute_result"
    }
   ],
   "source": [
    "df_train_dummied.head()"
   ]
  },
  {
   "cell_type": "code",
   "execution_count": 40,
   "metadata": {},
   "outputs": [
    {
     "data": {
      "text/plain": [
       "<AxesSubplot:>"
      ]
     },
     "execution_count": 40,
     "metadata": {},
     "output_type": "execute_result"
    },
    {
     "data": {
      "image/png": "[encoded data removed]",
      "text/plain": [
       "<Figure size 432x288 with 2 Axes>"
      ]
     },
     "metadata": {},
     "output_type": "display_data"
    }
   ],
   "source": [
    "## Identifying variables that are correlated\n",
    "plt.figure(figsize=(6,4))\n",
    "sns.heatmap(df_train_dummied.corr())"
   ]
  },
  {
   "cell_type": "code",
   "execution_count": 42,
   "metadata": {},
   "outputs": [],
   "source": [
    "x = df_train_dummied.drop('Survived',axis=1)\n",
    "y = df_train_dummied.Survived"
   ]
  },
  {
   "cell_type": "code",
   "execution_count": 45,
   "metadata": {},
   "outputs": [],
   "source": [
    "Xtrain,Xtest,Ytrain,Ytest = train_test_split(x,y,test_size = 0.3,random_state=1)"
   ]
  },
  {
   "cell_type": "code",
   "execution_count": 46,
   "metadata": {},
   "outputs": [
    {
     "name": "stderr",
     "output_type": "stream",
     "text": [
      "C:\\Users\\Priyank\\AppData\\Roaming\\Python\\Python38\\site-packages\\sklearn\\linear_model\\_logistic.py:762: ConvergenceWarning: lbfgs failed to converge (status=1):\n",
      "STOP: TOTAL NO. of ITERATIONS REACHED LIMIT.\n",
      "\n",
      "Increase the number of iterations (max_iter) or scale the data as shown in:\n",
      "    https://scikit-learn.org/stable/modules/preprocessing.html\n",
      "Please also refer to the documentation for alternative solver options:\n",
      "    https://scikit-learn.org/stable/modules/linear_model.html#logistic-regression\n",
      "  n_iter_i = _check_optimize_result(\n"
     ]
    },
    {
     "data": {
      "text/plain": [
       "LogisticRegression()"
      ]
     },
     "execution_count": 46,
     "metadata": {},
     "output_type": "execute_result"
    }
   ],
   "source": [
    "lr = LogisticRegression()\n",
    "lr.fit(Xtrain,Ytrain)"
   ]
  },
  {
   "cell_type": "code",
   "execution_count": 47,
   "metadata": {},
   "outputs": [],
   "source": [
    "Ypred = lr.predict(Xtest)"
   ]
  },
  {
   "cell_type": "code",
   "execution_count": 48,
   "metadata": {},
   "outputs": [
    {
     "data": {
      "text/plain": [
       "0.846441947565543"
      ]
     },
     "execution_count": 48,
     "metadata": {},
     "output_type": "execute_result"
    }
   ],
   "source": [
    "metrics.accuracy_score(Ytest,Ypred)"
   ]
  },
  {
   "cell_type": "code",
   "execution_count": 49,
   "metadata": {},
   "outputs": [
    {
     "data": {
      "text/plain": [
       "array([[145,  21],\n",
       "       [ 20,  81]], dtype=int64)"
      ]
     },
     "execution_count": 49,
     "metadata": {},
     "output_type": "execute_result"
    }
   ],
   "source": [
    "metrics.confusion_matrix(Ytest,Ypred)"
   ]
  },
  {
   "cell_type": "code",
   "execution_count": 50,
   "metadata": {},
   "outputs": [
    {
     "name": "stdout",
     "output_type": "stream",
     "text": [
      "              precision    recall  f1-score   support\n",
      "\n",
      "           0       0.88      0.87      0.88       166\n",
      "           1       0.79      0.80      0.80       101\n",
      "\n",
      "    accuracy                           0.85       267\n",
      "   macro avg       0.84      0.84      0.84       267\n",
      "weighted avg       0.85      0.85      0.85       267\n",
      "\n"
     ]
    }
   ],
   "source": [
    "print(classification_report(Ytest,Ypred))"
   ]
  },
  {
   "cell_type": "code",
   "execution_count": 52,
   "metadata": {},
   "outputs": [
    {
     "data": {
      "text/plain": [
       "array([[0.28963778, 0.71036222],\n",
       "       [0.42979604, 0.57020396],\n",
       "       [0.94467792, 0.05532208],\n",
       "       [0.25252283, 0.74747717],\n",
       "       [0.93902714, 0.06097286],\n",
       "       [0.14377142, 0.85622858],\n",
       "       [0.36399058, 0.63600942],\n",
       "       [0.5500892 , 0.4499108 ],\n",
       "       [0.7874589 , 0.2125411 ],\n",
       "       [0.44167819, 0.55832181],\n",
       "       [0.71747425, 0.28252575],\n",
       "       [0.25493674, 0.74506326],\n",
       "       [0.73192687, 0.26807313],\n",
       "       [0.15780561, 0.84219439],\n",
       "       [0.85671905, 0.14328095],\n",
       "       [0.4021187 , 0.5978813 ],\n",
       "       [0.89747894, 0.10252106],\n",
       "       [0.32394399, 0.67605601],\n",
       "       [0.19118089, 0.80881911],\n",
       "       [0.38621845, 0.61378155],\n",
       "       [0.89754498, 0.10245502],\n",
       "       [0.51921363, 0.48078637],\n",
       "       [0.85296448, 0.14703552],\n",
       "       [0.93171498, 0.06828502],\n",
       "       [0.50734316, 0.49265684],\n",
       "       [0.5520263 , 0.4479737 ],\n",
       "       [0.04546056, 0.95453944],\n",
       "       [0.86153164, 0.13846836],\n",
       "       [0.89095687, 0.10904313],\n",
       "       [0.31813809, 0.68186191],\n",
       "       [0.42186331, 0.57813669],\n",
       "       [0.35260332, 0.64739668],\n",
       "       [0.16951737, 0.83048263],\n",
       "       [0.3803085 , 0.6196915 ],\n",
       "       [0.57345378, 0.42654622],\n",
       "       [0.18221318, 0.81778682],\n",
       "       [0.62349352, 0.37650648],\n",
       "       [0.86633388, 0.13366612],\n",
       "       [0.26578232, 0.73421768],\n",
       "       [0.57305695, 0.42694305],\n",
       "       [0.47876635, 0.52123365],\n",
       "       [0.90402811, 0.09597189],\n",
       "       [0.29352307, 0.70647693],\n",
       "       [0.86633711, 0.13366289],\n",
       "       [0.7800788 , 0.2199212 ],\n",
       "       [0.25758044, 0.74241956],\n",
       "       [0.1850177 , 0.8149823 ],\n",
       "       [0.80253649, 0.19746351],\n",
       "       [0.06568403, 0.93431597],\n",
       "       [0.91941566, 0.08058434],\n",
       "       [0.86636291, 0.13363709],\n",
       "       [0.43147058, 0.56852942],\n",
       "       [0.85351545, 0.14648455],\n",
       "       [0.09627617, 0.90372383],\n",
       "       [0.73214543, 0.26785457],\n",
       "       [0.07657616, 0.92342384],\n",
       "       [0.76245429, 0.23754571],\n",
       "       [0.9514448 , 0.0485552 ],\n",
       "       [0.68184484, 0.31815516],\n",
       "       [0.93226229, 0.06773771],\n",
       "       [0.8001456 , 0.1998544 ],\n",
       "       [0.85166291, 0.14833709],\n",
       "       [0.57290862, 0.42709138],\n",
       "       [0.86633711, 0.13366289],\n",
       "       [0.43276974, 0.56723026],\n",
       "       [0.25764015, 0.74235985],\n",
       "       [0.86600389, 0.13399611],\n",
       "       [0.9066366 , 0.0933634 ],\n",
       "       [0.83561958, 0.16438042],\n",
       "       [0.05509656, 0.94490344],\n",
       "       [0.84521178, 0.15478822],\n",
       "       [0.06151373, 0.93848627],\n",
       "       [0.67922061, 0.32077939],\n",
       "       [0.85169551, 0.14830449],\n",
       "       [0.34186683, 0.65813317],\n",
       "       [0.14383178, 0.85616822],\n",
       "       [0.80561376, 0.19438624],\n",
       "       [0.9186049 , 0.0813951 ],\n",
       "       [0.83042193, 0.16957807],\n",
       "       [0.82187404, 0.17812596],\n",
       "       [0.80561376, 0.19438624],\n",
       "       [0.85671062, 0.14328938],\n",
       "       [0.04572933, 0.95427067],\n",
       "       [0.06509955, 0.93490045],\n",
       "       [0.74746547, 0.25253453],\n",
       "       [0.5962938 , 0.4037062 ],\n",
       "       [0.42583643, 0.57416357],\n",
       "       [0.37471622, 0.62528378],\n",
       "       [0.86633711, 0.13366289],\n",
       "       [0.40204593, 0.59795407],\n",
       "       [0.89197844, 0.10802156],\n",
       "       [0.31814171, 0.68185829],\n",
       "       [0.92989733, 0.07010267],\n",
       "       [0.7861356 , 0.2138644 ],\n",
       "       [0.2927028 , 0.7072972 ],\n",
       "       [0.82587804, 0.17412196],\n",
       "       [0.2527622 , 0.7472378 ],\n",
       "       [0.29689954, 0.70310046],\n",
       "       [0.29270241, 0.70729759],\n",
       "       [0.23531351, 0.76468649],\n",
       "       [0.84119614, 0.15880386],\n",
       "       [0.37691882, 0.62308118],\n",
       "       [0.60729961, 0.39270039],\n",
       "       [0.84652498, 0.15347502],\n",
       "       [0.84647817, 0.15352183],\n",
       "       [0.89703505, 0.10296495],\n",
       "       [0.15441371, 0.84558629],\n",
       "       [0.84120532, 0.15879468],\n",
       "       [0.77225142, 0.22774858],\n",
       "       [0.80345302, 0.19654698],\n",
       "       [0.605552  , 0.394448  ],\n",
       "       [0.73306214, 0.26693786],\n",
       "       [0.7861356 , 0.2138644 ],\n",
       "       [0.22347488, 0.77652512],\n",
       "       [0.38772466, 0.61227534],\n",
       "       [0.10240808, 0.89759192],\n",
       "       [0.90923616, 0.09076384],\n",
       "       [0.44168597, 0.55831403],\n",
       "       [0.0774446 , 0.9225554 ],\n",
       "       [0.77690023, 0.22309977],\n",
       "       [0.870982  , 0.129018  ],\n",
       "       [0.24436485, 0.75563515],\n",
       "       [0.31810425, 0.68189575],\n",
       "       [0.47349929, 0.52650071],\n",
       "       [0.22364769, 0.77635231],\n",
       "       [0.88564251, 0.11435749],\n",
       "       [0.41192507, 0.58807493],\n",
       "       [0.90112077, 0.09887923],\n",
       "       [0.87541883, 0.12458117],\n",
       "       [0.60775588, 0.39224412],\n",
       "       [0.4791297 , 0.5208703 ],\n",
       "       [0.60742582, 0.39257418],\n",
       "       [0.87382258, 0.12617742],\n",
       "       [0.57382983, 0.42617017],\n",
       "       [0.40239598, 0.59760402],\n",
       "       [0.07498482, 0.92501518],\n",
       "       [0.85123073, 0.14876927],\n",
       "       [0.92232782, 0.07767218],\n",
       "       [0.86597286, 0.13402714],\n",
       "       [0.88328787, 0.11671213],\n",
       "       [0.84941281, 0.15058719],\n",
       "       [0.33900068, 0.66099932],\n",
       "       [0.91938772, 0.08061228],\n",
       "       [0.4191058 , 0.5808942 ],\n",
       "       [0.57672093, 0.42327907],\n",
       "       [0.69119812, 0.30880188],\n",
       "       [0.21409354, 0.78590646],\n",
       "       [0.11783791, 0.88216209],\n",
       "       [0.08361509, 0.91638491],\n",
       "       [0.91328838, 0.08671162],\n",
       "       [0.82058056, 0.17941944],\n",
       "       [0.93317401, 0.06682599],\n",
       "       [0.16894705, 0.83105295],\n",
       "       [0.84120532, 0.15879468],\n",
       "       [0.37426661, 0.62573339],\n",
       "       [0.40233971, 0.59766029],\n",
       "       [0.77262517, 0.22737483],\n",
       "       [0.40230057, 0.59769943],\n",
       "       [0.88388497, 0.11611503],\n",
       "       [0.8663513 , 0.1336487 ],\n",
       "       [0.472505  , 0.527495  ],\n",
       "       [0.75521347, 0.24478653],\n",
       "       [0.60775588, 0.39224412],\n",
       "       [0.83936221, 0.16063779],\n",
       "       [0.86435863, 0.13564137],\n",
       "       [0.82434627, 0.17565373],\n",
       "       [0.1575002 , 0.8424998 ],\n",
       "       [0.05777447, 0.94222553],\n",
       "       [0.75490653, 0.24509347],\n",
       "       [0.25749884, 0.74250116],\n",
       "       [0.84167481, 0.15832519],\n",
       "       [0.89115522, 0.10884478],\n",
       "       [0.80561376, 0.19438624],\n",
       "       [0.86635023, 0.13364977],\n",
       "       [0.68394485, 0.31605515],\n",
       "       [0.2759966 , 0.7240034 ],\n",
       "       [0.85671062, 0.14328938],\n",
       "       [0.69077324, 0.30922676],\n",
       "       [0.86633711, 0.13366289],\n",
       "       [0.84106984, 0.15893016],\n",
       "       [0.80561376, 0.19438624],\n",
       "       [0.86633711, 0.13366289],\n",
       "       [0.64769957, 0.35230043],\n",
       "       [0.92607766, 0.07392234],\n",
       "       [0.31815339, 0.68184661],\n",
       "       [0.83880941, 0.16119059],\n",
       "       [0.37037883, 0.62962117],\n",
       "       [0.55400039, 0.44599961],\n",
       "       [0.24055539, 0.75944461],\n",
       "       [0.89951969, 0.10048031],\n",
       "       [0.73182788, 0.26817212],\n",
       "       [0.68779454, 0.31220546],\n",
       "       [0.85676121, 0.14323879],\n",
       "       [0.74504839, 0.25495161],\n",
       "       [0.93317402, 0.06682598],\n",
       "       [0.72747469, 0.27252531],\n",
       "       [0.89197456, 0.10802544],\n",
       "       [0.30535417, 0.69464583],\n",
       "       [0.57382983, 0.42617017],\n",
       "       [0.07290736, 0.92709264],\n",
       "       [0.63051302, 0.36948698],\n",
       "       [0.20077468, 0.79922532],\n",
       "       [0.76776373, 0.23223627],\n",
       "       [0.5483037 , 0.4516963 ],\n",
       "       [0.0540143 , 0.9459857 ],\n",
       "       [0.88395833, 0.11604167],\n",
       "       [0.86865665, 0.13134335],\n",
       "       [0.33954527, 0.66045473],\n",
       "       [0.81508642, 0.18491358],\n",
       "       [0.08849269, 0.91150731],\n",
       "       [0.80507229, 0.19492771],\n",
       "       [0.72393418, 0.27606582],\n",
       "       [0.78613592, 0.21386408],\n",
       "       [0.77225175, 0.22774825],\n",
       "       [0.29343794, 0.70656206],\n",
       "       [0.20176355, 0.79823645],\n",
       "       [0.73998578, 0.26001422],\n",
       "       [0.23132291, 0.76867709],\n",
       "       [0.90994055, 0.09005945],\n",
       "       [0.66435828, 0.33564172],\n",
       "       [0.83936221, 0.16063779],\n",
       "       [0.53316924, 0.46683076],\n",
       "       [0.67248857, 0.32751143],\n",
       "       [0.24244858, 0.75755142],\n",
       "       [0.26332474, 0.73667526],\n",
       "       [0.85663948, 0.14336052],\n",
       "       [0.54966638, 0.45033362],\n",
       "       [0.80561376, 0.19438624],\n",
       "       [0.79284307, 0.20715693],\n",
       "       [0.73309195, 0.26690805],\n",
       "       [0.36948029, 0.63051971],\n",
       "       [0.34291519, 0.65708481],\n",
       "       [0.50590799, 0.49409201],\n",
       "       [0.80561376, 0.19438624],\n",
       "       [0.89201279, 0.10798721],\n",
       "       [0.88327104, 0.11672896],\n",
       "       [0.86634507, 0.13365493],\n",
       "       [0.78389735, 0.21610265],\n",
       "       [0.35584579, 0.64415421],\n",
       "       [0.87096197, 0.12903803],\n",
       "       [0.32367563, 0.67632437],\n",
       "       [0.8044666 , 0.1955334 ],\n",
       "       [0.84118969, 0.15881031],\n",
       "       [0.66985583, 0.33014417],\n",
       "       [0.55237213, 0.44762787],\n",
       "       [0.08876512, 0.91123488],\n",
       "       [0.1628701 , 0.8371299 ],\n",
       "       [0.76931585, 0.23068415],\n",
       "       [0.66842953, 0.33157047],\n",
       "       [0.86560843, 0.13439157],\n",
       "       [0.25336649, 0.74663351],\n",
       "       [0.31813406, 0.68186594],\n",
       "       [0.43176667, 0.56823333],\n",
       "       [0.93864598, 0.06135402],\n",
       "       [0.11341911, 0.88658089],\n",
       "       [0.26628277, 0.73371723],\n",
       "       [0.8754243 , 0.1245757 ],\n",
       "       [0.89951851, 0.10048149],\n",
       "       [0.04744106, 0.95255894],\n",
       "       [0.7861356 , 0.2138644 ],\n",
       "       [0.22110018, 0.77889982],\n",
       "       [0.84609222, 0.15390778],\n",
       "       [0.63087009, 0.36912991],\n",
       "       [0.86634507, 0.13365493],\n",
       "       [0.3429156 , 0.6570844 ],\n",
       "       [0.8056155 , 0.1943845 ],\n",
       "       [0.90802172, 0.09197828]])"
      ]
     },
     "execution_count": 52,
     "metadata": {},
     "output_type": "execute_result"
    }
   ],
   "source": [
    "lr.predict_proba(Xtest)"
   ]
  },
  {
   "cell_type": "code",
   "execution_count": null,
   "metadata": {},
   "outputs": [],
   "source": []
  }
 ],
 "metadata": {
  "kernelspec": {
   "display_name": "Python 3",
   "language": "python",
   "name": "python3"
  },
  "language_info": {
   "codemirror_mode": {
    "name": "ipython",
    "version": 3
   },
   "file_extension": ".py",
   "mimetype": "text/x-python",
   "name": "python",
   "nbconvert_exporter": "python",
   "pygments_lexer": "ipython3",
   "version": "3.8.5"
  }
 },
 "nbformat": 4,
 "nbformat_minor": 4
}
